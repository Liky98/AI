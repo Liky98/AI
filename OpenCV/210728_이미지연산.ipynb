{
 "cells": [
  {
   "cell_type": "code",
   "execution_count": 10,
   "id": "0a50a313",
   "metadata": {
    "ExecuteTime": {
     "end_time": "2021-07-28T04:48:54.211598Z",
     "start_time": "2021-07-28T04:48:54.185568Z"
    }
   },
   "outputs": [
    {
     "name": "stdout",
     "output_type": "stream",
     "text": [
      "[[11  0]]\n",
      "[[11 20]] [[10 20]]\n"
     ]
    }
   ],
   "source": [
    "import cv2\n",
    "import numpy as np\n",
    "\n",
    "#---① 연산에 사용할 배열 생성\n",
    "a = np.array([[1, 2]], dtype=np.uint8)\n",
    "b = np.array([[10, 20]], dtype=np.uint8)\n",
    "#---② 2번째 요소가 0인 마스크 배열 생성 \n",
    "mask = np.array([[1, 0]], dtype=np.uint8)\n",
    "\n",
    "#---③ 누적 할당과의 비교 연산\n",
    "c1 = cv2.add( a, b , None, mask)\n",
    "print(c1)\n",
    "c2 = cv2.add( a, b , b.copy(), mask)\n",
    "print(c2, b)"
   ]
  },
  {
   "cell_type": "code",
   "execution_count": null,
   "id": "b9c8edca",
   "metadata": {},
   "outputs": [],
   "source": []
  },
  {
   "cell_type": "code",
   "execution_count": null,
   "id": "1f1cc61d",
   "metadata": {},
   "outputs": [],
   "source": []
  }
 ],
 "metadata": {
  "kernelspec": {
   "display_name": "Python 3",
   "language": "python",
   "name": "python3"
  },
  "language_info": {
   "codemirror_mode": {
    "name": "ipython",
    "version": 3
   },
   "file_extension": ".py",
   "mimetype": "text/x-python",
   "name": "python",
   "nbconvert_exporter": "python",
   "pygments_lexer": "ipython3",
   "version": "3.8.10"
  },
  "toc": {
   "base_numbering": 1,
   "nav_menu": {},
   "number_sections": true,
   "sideBar": true,
   "skip_h1_title": false,
   "title_cell": "Table of Contents",
   "title_sidebar": "Contents",
   "toc_cell": false,
   "toc_position": {},
   "toc_section_display": true,
   "toc_window_display": false
  }
 },
 "nbformat": 4,
 "nbformat_minor": 5
}
